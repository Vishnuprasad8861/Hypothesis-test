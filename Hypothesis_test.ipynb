{
 "cells": [
  {
   "cell_type": "markdown",
   "id": "4c50fbd9-3199-4484-9806-d436cf36b6a3",
   "metadata": {},
   "source": [
    "# Hypothesis Testing\n"
   ]
  },
  {
   "cell_type": "markdown",
   "id": "c7347fb3-8021-4159-bae7-200ccf64b0b2",
   "metadata": {},
   "source": [
    "### Hypothesis Testing is a type of statistical analysis in which you put your assumptions about a population parameter to the test. It is used to estimate the relationship between 2 statistical variables."
   ]
  },
  {
   "cell_type": "markdown",
   "id": "345cdbf4-dd1f-4a3a-926b-ef98b15c0334",
   "metadata": {},
   "source": [
    "### Hypothesis Testing Formula"
   ]
  },
  {
   "cell_type": "markdown",
   "id": "6303da71-ab18-4173-b6b8-7c6160ffc082",
   "metadata": {},
   "source": [
    "### Z = ( x̅ – μ0 ) / (σ /√n)"
   ]
  },
  {
   "cell_type": "markdown",
   "id": "8ff49148-b0b9-4e78-a9eb-ca9804d66a2d",
   "metadata": {},
   "source": [
    "### Here, \n",
    "### x̅ is the sample mean,\n",
    "### μ0 is the population mean,\n",
    "### σ is the standard deviation,\n",
    "### n is the sample size."
   ]
  },
  {
   "cell_type": "markdown",
   "id": "45fbad76-2bb3-4312-a10c-7a0d30b7d5f8",
   "metadata": {},
   "source": [
    "## Null Hypothesis"
   ]
  },
  {
   "cell_type": "markdown",
   "id": "f85475b2-fcc7-48ca-8975-fc67b792db7e",
   "metadata": {},
   "source": [
    "### The Null Hypothesis is the assumption that the event will not occur. A null hypothesis has no bearing on the study's outcome unless it is rejected."
   ]
  },
  {
   "cell_type": "markdown",
   "id": "31b9c9e3-480e-46bf-b035-cd5dc51e68dc",
   "metadata": {},
   "source": [
    "### H0 is the symbol for it (H-naught)"
   ]
  },
  {
   "cell_type": "markdown",
   "id": "2d881def-06f8-4f56-9430-0be17505674b",
   "metadata": {},
   "source": [
    "##  Alternate Hypothesis "
   ]
  },
  {
   "cell_type": "markdown",
   "id": "3b290092-4f29-4479-beb5-4cf2274e5f06",
   "metadata": {},
   "source": [
    "### Alternate Hypothesis is the logical opposite of the null hypothesis. The acceptance of the alternative hypothesis follows the rejection of the null hypothesis. \n",
    "### H1 is the symbol for it."
   ]
  },
  {
   "cell_type": "markdown",
   "id": "02aff562-4054-4ebe-bffd-cfa4db4689d7",
   "metadata": {},
   "source": [
    "## Examples"
   ]
  },
  {
   "cell_type": "markdown",
   "id": "39c7772d-7419-422c-9ab9-03e950470b64",
   "metadata": {},
   "source": [
    "### Q1:.Suppose a child psychologist claims that the average time working mothers spend talking to their children is at least 11 minutes per day. You conduct a random sample of 1000 working mothers and find they spend an average of 11.5 minutes per day talking with their children. Assume prior research suggests the population standard deviation is 2.3 minutes.Conduct a test with a level of significance of alpha = 0.05."
   ]
  },
  {
   "cell_type": "markdown",
   "id": "088dcdfd-5abd-4bda-881c-776c9f904c71",
   "metadata": {},
   "source": [
    "### Formulate the Hypothesis"
   ]
  },
  {
   "cell_type": "markdown",
   "id": "3ef6f3ed-c11d-4e90-9650-1e36cc122bad",
   "metadata": {},
   "source": [
    "## Null Hypothesis"
   ]
  },
  {
   "cell_type": "markdown",
   "id": "1dd2fb21-398b-49b8-99bf-d22732727ae1",
   "metadata": {},
   "source": [
    "### Ho=μ≤11 minutes Average time working mothers spend talking to their children"
   ]
  },
  {
   "cell_type": "markdown",
   "id": "5a68eafd-4664-44c6-a36b-779af579ad79",
   "metadata": {},
   "source": [
    "## Alternative Hypothesis"
   ]
  },
  {
   "cell_type": "markdown",
   "id": "c75cbf65-5f1a-419f-90fe-a2cc4d011f0e",
   "metadata": {},
   "source": [
    "### Ha=μ>11 minutes Average time working mothers spend talking to their children"
   ]
  },
  {
   "cell_type": "markdown",
   "id": "9c7f4e7e-8908-42b8-bc25-23508eb1ee47",
   "metadata": {},
   "source": [
    "## Data sample"
   ]
  },
  {
   "cell_type": "markdown",
   "id": "d6d0c398-7039-4f65-9b9e-ffc4456ecd20",
   "metadata": {},
   "source": [
    "### x̅ =11.5 minutes"
   ]
  },
  {
   "cell_type": "markdown",
   "id": "6d61e385-bce4-4fed-8fa3-ebd8abded85e",
   "metadata": {},
   "source": [
    "### n =1000"
   ]
  },
  {
   "cell_type": "markdown",
   "id": "3956191e-6543-45de-a607-c443dbc7583c",
   "metadata": {},
   "source": [
    "### σ =2.3"
   ]
  },
  {
   "cell_type": "markdown",
   "id": "cce78878-c2ad-4c2c-941d-c93630edc677",
   "metadata": {},
   "source": [
    "### μ=11"
   ]
  },
  {
   "cell_type": "markdown",
   "id": "e69f4d1e-a955-44a1-9a3d-503cd7cb8d96",
   "metadata": {},
   "source": [
    "### Calculating Z value"
   ]
  },
  {
   "cell_type": "code",
   "execution_count": 1,
   "id": "85fe3e19-b4c4-47d4-b7e4-7e7544a1f1a7",
   "metadata": {},
   "outputs": [],
   "source": [
    "import math"
   ]
  },
  {
   "cell_type": "code",
   "execution_count": 2,
   "id": "5941183b-ff52-4970-942f-d8551ca00b56",
   "metadata": {},
   "outputs": [
    {
     "data": {
      "text/plain": [
       "6.874516652539955"
      ]
     },
     "execution_count": 2,
     "metadata": {},
     "output_type": "execute_result"
    }
   ],
   "source": [
    "Z=(11.5-11)/(2.3/math.sqrt(1000))\n",
    "Z"
   ]
  },
  {
   "cell_type": "markdown",
   "id": "b79e9161-cdda-4b02-b6b0-02dfc8d10450",
   "metadata": {},
   "source": [
    "### Since the calculated z-score (6.87) is greater than the critical z-value (1.645), we reject the null hypothesis.\n",
    "\n",
    "### Therefore, we have enough evidence to support the psychologist's claim that the average time working mothers spend talking to their children is greater than 11 minutes per day."
   ]
  },
  {
   "cell_type": "code",
   "execution_count": null,
   "id": "242d33e6-72dd-4a7e-95f7-fb6e0fe415a6",
   "metadata": {},
   "outputs": [],
   "source": []
  },
  {
   "cell_type": "markdown",
   "id": "ed556b4b-feae-40b8-8e1b-dbec303a9eea",
   "metadata": {},
   "source": [
    "## Q2: A coffee shop claims that their average wait time for customers is less than 5 minutes. To test this claim, a sample of 40 customers is taken, and their wait times are recorded. The sample mean wait time is found to be 4.6 minutes with a standard deviation of 0.8 minutes. Perform a hypothesis test at a significance level of 0.05 and determine whether there is enough evidence to support the coffee shop's claim."
   ]
  },
  {
   "cell_type": "markdown",
   "id": "092648aa-fff0-4765-83c7-94c682249e52",
   "metadata": {},
   "source": [
    "### Formulate the Hypothesis"
   ]
  },
  {
   "cell_type": "markdown",
   "id": "74b7e340-3f10-43a5-a972-0128e5c80c17",
   "metadata": {},
   "source": [
    "## Null Hypothesis"
   ]
  },
  {
   "cell_type": "markdown",
   "id": "690432bf-df62-4002-8f86-5fab4b023a5b",
   "metadata": {},
   "source": [
    "### Ho=μ≥ 5 minutes average wait time for customers "
   ]
  },
  {
   "cell_type": "markdown",
   "id": "d3db111f-4d60-4cba-86ec-9772b2a9f023",
   "metadata": {},
   "source": [
    "## Alternative Hypothesis"
   ]
  },
  {
   "cell_type": "markdown",
   "id": "cdbce571-a8cf-4ac3-bce1-cd6116f81580",
   "metadata": {},
   "source": [
    "### Ha=μ<5 minutes Average wait time for customers"
   ]
  },
  {
   "cell_type": "markdown",
   "id": "17903453-966d-4b35-8cc8-af4e34337a64",
   "metadata": {},
   "source": [
    "### x̅ =4.6 minutes"
   ]
  },
  {
   "cell_type": "markdown",
   "id": "7c5c86cc-8ea7-4ebd-b979-07406efca7a4",
   "metadata": {},
   "source": [
    "### n =40"
   ]
  },
  {
   "cell_type": "markdown",
   "id": "9314b54a-3afd-41be-adc1-9f58cdc6a6a0",
   "metadata": {},
   "source": [
    "### σ =0.8 minutes"
   ]
  },
  {
   "cell_type": "markdown",
   "id": "6b562757-beee-4711-b304-3e1aa5546666",
   "metadata": {},
   "source": [
    "### μ=5 minutes"
   ]
  },
  {
   "cell_type": "code",
   "execution_count": 5,
   "id": "85f98fb4-13b7-41fd-8aa8-25c700444584",
   "metadata": {},
   "outputs": [],
   "source": [
    "import math"
   ]
  },
  {
   "cell_type": "code",
   "execution_count": 6,
   "id": "c7ead224-28f9-444c-a8a9-1e1c1aab7d56",
   "metadata": {},
   "outputs": [
    {
     "data": {
      "text/plain": [
       "-3.162277660168382"
      ]
     },
     "execution_count": 6,
     "metadata": {},
     "output_type": "execute_result"
    }
   ],
   "source": [
    "S=(4.6-5)/(0.8/math.sqrt(40))\n",
    "S"
   ]
  },
  {
   "cell_type": "markdown",
   "id": "d530f81d-969e-46cd-b050-decfcb7adfd8",
   "metadata": {},
   "source": [
    "Average wait time is less than 5 minutes."
   ]
  },
  {
   "cell_type": "code",
   "execution_count": null,
   "id": "d5e9518c-0e58-44cc-ba6f-88f5367c1920",
   "metadata": {},
   "outputs": [],
   "source": []
  },
  {
   "cell_type": "code",
   "execution_count": null,
   "id": "d6582a16-2a7e-4a9d-81a8-d2469e579520",
   "metadata": {},
   "outputs": [],
   "source": []
  },
  {
   "cell_type": "code",
   "execution_count": null,
   "id": "16c3acdb-0781-407f-9238-1e6b00bc3691",
   "metadata": {},
   "outputs": [],
   "source": []
  }
 ],
 "metadata": {
  "kernelspec": {
   "display_name": "Python 3 (ipykernel)",
   "language": "python",
   "name": "python3"
  },
  "language_info": {
   "codemirror_mode": {
    "name": "ipython",
    "version": 3
   },
   "file_extension": ".py",
   "mimetype": "text/x-python",
   "name": "python",
   "nbconvert_exporter": "python",
   "pygments_lexer": "ipython3",
   "version": "3.11.4"
  }
 },
 "nbformat": 4,
 "nbformat_minor": 5
}
